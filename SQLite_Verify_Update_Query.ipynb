{
 "cells": [
  {
   "cell_type": "code",
   "execution_count": 1,
   "id": "ea242b76-b792-45b5-bb30-d0305bde38ad",
   "metadata": {},
   "outputs": [
    {
     "name": "stdout",
     "output_type": "stream",
     "text": [
      "Successfully Connected To SQLite\n",
      "(1, 'Robert', 'robert.johnson@example.com', '2022-11-20 10:30:00')\n",
      "Successfully Connection is Closed\n"
     ]
    }
   ],
   "source": [
    "#Update row was executed\n",
    "import pandas as pd\n",
    "import sqlite3\n",
    "\n",
    "\n",
    "try:\n",
    "    sqliteConnection = sqlite3.connect('C:\\\\SQLITE3\\\\databases\\\\mySQLite_Python.db')\n",
    "    sqlite_select_query = '''SELECT * FROM SqliteDB_programmers;'''\n",
    "\n",
    "    cursor = sqliteConnection.cursor()\n",
    "    print(\"Successfully Connected To SQLite\")\n",
    "    cursor.execute(sqlite_select_query)\n",
    "    rows = cursor.fetchall()\n",
    "    for row in rows:\n",
    "        print(row)\n",
    "\n",
    "    cursor.close()\n",
    "except sqlite3.Error as error:\n",
    "    print(\"Error while creating a sqlite table\", error)\n",
    "finally:\n",
    "    if sqliteConnection:\n",
    "        sqliteConnection.close()\n",
    "        print(\"Successfully Connection is Closed\")"
   ]
  },
  {
   "cell_type": "code",
   "execution_count": null,
   "id": "9ce674fd-8931-4d2e-9f96-856dafa1d6dd",
   "metadata": {},
   "outputs": [],
   "source": []
  }
 ],
 "metadata": {
  "kernelspec": {
   "display_name": "Python 3 (ipykernel)",
   "language": "python",
   "name": "python3"
  },
  "language_info": {
   "codemirror_mode": {
    "name": "ipython",
    "version": 3
   },
   "file_extension": ".py",
   "mimetype": "text/x-python",
   "name": "python",
   "nbconvert_exporter": "python",
   "pygments_lexer": "ipython3",
   "version": "3.13.5"
  }
 },
 "nbformat": 4,
 "nbformat_minor": 5
}
