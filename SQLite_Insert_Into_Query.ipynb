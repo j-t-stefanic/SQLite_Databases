{
 "cells": [
  {
   "cell_type": "code",
   "execution_count": 1,
   "id": "c11eef78-9f5d-4a72-a2e2-9afa5f027308",
   "metadata": {},
   "outputs": [
    {
     "name": "stdout",
     "output_type": "stream",
     "text": [
      "Successfully Connected To SQLite\n",
      "Record successfully inserted into sqlite table\n",
      "Successfully Closed Connection\n"
     ]
    }
   ],
   "source": [
    "#Now lets populate our new table with some data\n",
    "import pandas as pd\n",
    "import sqlite3\n",
    "\n",
    "try:\n",
    "    sqliteConnection = sqlite3.connect('C:\\\\SQLITE3\\\\databases\\\\mySQLite_Python.db')\n",
    "    sqlite_insertINTO_table_query = '''INSERT INTO SqliteDB_programmers (id, name, email, join_date) VALUES (1,'Bob Johnson', 'bob.johnson@example.com', '2022-11-20 10:30:00');'''\n",
    "\n",
    "    cursor = sqliteConnection.cursor()\n",
    "    print(\"Successfully Connected To SQLite\")\n",
    "    cursor.execute(sqlite_insertINTO_table_query)\n",
    "    sqliteConnection.commit()\n",
    "    cursor.close()\n",
    "    print(\"Record successfully inserted into sqlite table\")\n",
    "except sqlite3.Error as error:\n",
    "    print(\"Error while inserting into the sqlite table\", error)\n",
    "finally:\n",
    "    if sqliteConnection:\n",
    "        sqliteConnection.close()\n",
    "        print(\"Successfully Closed Connection\")"
   ]
  },
  {
   "cell_type": "code",
   "execution_count": null,
   "id": "0b2fa795-6ed4-449b-9ec7-9e7e482e3984",
   "metadata": {},
   "outputs": [],
   "source": []
  }
 ],
 "metadata": {
  "kernelspec": {
   "display_name": "Python 3 (ipykernel)",
   "language": "python",
   "name": "python3"
  },
  "language_info": {
   "codemirror_mode": {
    "name": "ipython",
    "version": 3
   },
   "file_extension": ".py",
   "mimetype": "text/x-python",
   "name": "python",
   "nbconvert_exporter": "python",
   "pygments_lexer": "ipython3",
   "version": "3.13.5"
  }
 },
 "nbformat": 4,
 "nbformat_minor": 5
}
