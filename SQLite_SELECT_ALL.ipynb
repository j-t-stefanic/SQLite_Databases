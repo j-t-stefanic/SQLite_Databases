{
 "cells": [
  {
   "cell_type": "code",
   "execution_count": 4,
   "id": "e65e6ce7-7ffb-4743-afa8-13f735df8ec0",
   "metadata": {},
   "outputs": [
    {
     "name": "stdout",
     "output_type": "stream",
     "text": [
      "Successfully Connected To SQLite\n",
      "(1, 'Charlie Brown', 'charlie.brown@example.com', '2024-03-01 14:15:00')\n",
      "(2, 'Alice Smith', 'alice.smith@example.com', '2023-01-15 09:00:00')\n",
      "Successfully Connection is Closed\n"
     ]
    }
   ],
   "source": [
    "import pandas as pd\n",
    "import sqlite3\n",
    "\n",
    "\n",
    "try:\n",
    "    sqliteConnection = sqlite3.connect('C:\\\\SQLITE3\\\\databases\\\\mySQLite_Python.db')\n",
    "    sqlite_select_query = '''SELECT * FROM SqliteDB_programmers;'''\n",
    "\n",
    "    cursor = sqliteConnection.cursor()\n",
    "    print(\"Successfully Connected To SQLite\")\n",
    "    cursor.execute(sqlite_select_query)\n",
    "    rows = cursor.fetchall()\n",
    "    for row in rows:\n",
    "        print(row)\n",
    "\n",
    "    cursor.close()\n",
    "except sqlite3.Error as error:\n",
    "    print(\"Error while creating a sqlite table\", error)\n",
    "finally:\n",
    "    if sqliteConnection:\n",
    "        sqliteConnection.close()\n",
    "        print(\"Successfully Connection is Closed\")\n"
   ]
  },
  {
   "cell_type": "code",
   "execution_count": 1,
   "id": "b809177c-61ba-4527-b3f3-dc4b9bbfa56f",
   "metadata": {},
   "outputs": [
    {
     "name": "stdout",
     "output_type": "stream",
     "text": [
      "Successfully Connected To SQLite\n",
      "Successfully Connection is Closed\n"
     ]
    }
   ],
   "source": [
    "#Deletion was execute\n",
    "import pandas as pd\n",
    "import sqlite3\n",
    "\n",
    "\n",
    "try:\n",
    "    sqliteConnection = sqlite3.connect('C:\\\\SQLITE3\\\\databases\\\\mySQLite_Python.db')\n",
    "    sqlite_select_query = '''SELECT * FROM SqliteDB_programmers;'''\n",
    "\n",
    "    cursor = sqliteConnection.cursor()\n",
    "    print(\"Successfully Connected To SQLite\")\n",
    "    cursor.execute(sqlite_select_query)\n",
    "    rows = cursor.fetchall()\n",
    "    for row in rows:\n",
    "        print(row)\n",
    "\n",
    "    cursor.close()\n",
    "except sqlite3.Error as error:\n",
    "    print(\"Error while creating a sqlite table\", error)\n",
    "finally:\n",
    "    if sqliteConnection:\n",
    "        sqliteConnection.close()\n",
    "        print(\"Successfully Connection is Closed\")"
   ]
  },
  {
   "cell_type": "code",
   "execution_count": null,
   "id": "fc25bd3d-63eb-4e7e-a162-78b2cdcaf234",
   "metadata": {},
   "outputs": [],
   "source": []
  }
 ],
 "metadata": {
  "kernelspec": {
   "display_name": "Python 3 (ipykernel)",
   "language": "python",
   "name": "python3"
  },
  "language_info": {
   "codemirror_mode": {
    "name": "ipython",
    "version": 3
   },
   "file_extension": ".py",
   "mimetype": "text/x-python",
   "name": "python",
   "nbconvert_exporter": "python",
   "pygments_lexer": "ipython3",
   "version": "3.13.5"
  }
 },
 "nbformat": 4,
 "nbformat_minor": 5
}
