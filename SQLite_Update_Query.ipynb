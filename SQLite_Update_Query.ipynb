{
 "cells": [
  {
   "cell_type": "code",
   "execution_count": 3,
   "id": "8acd34d9-ced6-40ef-8fa4-f8cc2f1d50a8",
   "metadata": {},
   "outputs": [
    {
     "name": "stdout",
     "output_type": "stream",
     "text": [
      "Successfully Connected To SQLite\n",
      "Row updated on table 'SqliteDB_programmers'.\n",
      "Successfully Closed Connection\n"
     ]
    }
   ],
   "source": [
    "#Now lets UPDATE an existing row in our table \n",
    "import pandas as pd\n",
    "import sqlite3\n",
    "\n",
    "table_name = 'SqliteDB_programmers'\n",
    "\n",
    "try:\n",
    "    sqliteConnection = sqlite3.connect('C:\\\\SQLITE3\\\\databases\\\\mySQLite_Python.db')\n",
    "\n",
    "    sqlite_update_row_query = '''UPDATE SqliteDB_programmers SET name = 'Robert', email = 'robert.johnson@example.com';'''\n",
    "    cursor = sqliteConnection.cursor()\n",
    "    print(\"Successfully Connected To SQLite\")\n",
    "    cursor.execute(sqlite_update_row_query)\n",
    "    sqliteConnection.commit()\n",
    "    cursor.close()\n",
    "    print(f\"Row updated on table '{table_name}'.\")\n",
    "except sqlite3.Error as error:\n",
    "    print(\"Error while inserting into the sqlite table\", error)\n",
    "finally:\n",
    "    if sqliteConnection:\n",
    "        sqliteConnection.close()\n",
    "        print(\"Successfully Closed Connection\")"
   ]
  },
  {
   "cell_type": "code",
   "execution_count": null,
   "id": "10e93198-4ac9-44e3-983e-89d2433c9f8c",
   "metadata": {},
   "outputs": [],
   "source": []
  }
 ],
 "metadata": {
  "kernelspec": {
   "display_name": "Python 3 (ipykernel)",
   "language": "python",
   "name": "python3"
  },
  "language_info": {
   "codemirror_mode": {
    "name": "ipython",
    "version": 3
   },
   "file_extension": ".py",
   "mimetype": "text/x-python",
   "name": "python",
   "nbconvert_exporter": "python",
   "pygments_lexer": "ipython3",
   "version": "3.13.5"
  }
 },
 "nbformat": 4,
 "nbformat_minor": 5
}
